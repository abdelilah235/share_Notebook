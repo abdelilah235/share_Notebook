{
  "metadata": {
    "kernelspec": {
      "name": "python",
      "display_name": "Python (Pyodide)",
      "language": "python"
    },
    "language_info": {
      "codemirror_mode": {
        "name": "python",
        "version": 3
      },
      "file_extension": ".py",
      "mimetype": "text/x-python",
      "name": "python",
      "nbconvert_exporter": "python",
      "pygments_lexer": "ipython3",
      "version": "3.8"
    }
  },
  "nbformat_minor": 4,
  "nbformat": 4,
  "cells": [
    {
      "cell_type": "markdown",
      "source": "<center>\n    <img src=\"https://cf-courses-data.s3.us.cloud-object-storage.appdomain.cloud/IBMDeveloperSkillsNetwork-DS0105EN-SkillsNetwork/labs/Module2/images/SN_web_lightmode.png\" width=\"300\" alt=\"cognitiveclass.ai logo\">\n</center>\n",
      "metadata": {}
    },
    {
      "cell_type": "markdown",
      "source": "#### Add your code below following the instructions given in the course\n",
      "metadata": {}
    },
    {
      "cell_type": "markdown",
      "source": "Abdelilah",
      "metadata": {}
    },
    {
      "cell_type": "markdown",
      "source": "Introduction",
      "metadata": {}
    },
    {
      "cell_type": "markdown",
      "source": "They are two famous data science languages :Python ,R and C++",
      "metadata": {}
    },
    {
      "cell_type": "markdown",
      "source": "The data science libraries are as follow :\n\nPython :\n\n    NumPy: Numerical computing library for handling large arrays and matrices.\n    Pandas: Data manipulation and analysis library for structured data.\n    Matplotlib: Plotting and visualization library.\n    Scikit-learn: Machine learning library with various algorithms and tools for data modeling and analysis.\n    TensorFlow: Deep learning library for building and training neural networks.\n    Keras: High-level deep learning library that runs on top of TensorFlow.\n\nR:\n\n    dplyr: Data manipulation library with functions for filtering, selecting, transforming, and summarizing data.\n    ggplot2: Powerful visualization library based on the Grammar of Graphics.\n    caret: Comprehensive library for machine learning and data modeling.\n    randomForest: Library for building random forest models.\n    glmnet: Library for fitting generalized linear models with regularization.",
      "metadata": {}
    },
    {
      "cell_type": "markdown",
      "source": "Data science tools are as follow :\n    \n    Jupyter Notebooks: Interactive environment for data analysis and exploration, supporting multiple programming languages such as Python and R.\n\n    RStudio: Integrated development environment (IDE) for R programming language, providing tools for data manipulation, visualization, and modeling.\n\n    Anaconda: Distribution of Python and R programming languages along with numerous data science libraries and tools. It simplifies package management and environment setup.\n\n    Apache Hadoop: Framework for distributed storage and processing of large datasets across clusters of computers. It is commonly used for big data processing.\n\n    Apache Spark: Fast and scalable data processing engine that supports distributed computing and advanced analytics.\n\n    SQL (Structured Query Language): Language used for managing and querying relational databases, which are commonly used for storing and managing structured data.\n\n    Git: Version control system used for tracking changes in code and collaborating with others. It helps in managing and organizing code repositories.",
      "metadata": {}
    },
    {
      "cell_type": "markdown",
      "source": "Now I will introduce arithmetic expression examples : \n\n    a + b = C\n    a - b = K\n    a*b = L",
      "metadata": {}
    },
    {
      "cell_type": "code",
      "source": "##I will apply the introduced arithmetic expression using some examples  ##\na = 5\nb = 6\nc = a+b\nprint(c)\n\n\na = 5\nb = 6\nL = a*b\nprint(L)",
      "metadata": {
        "trusted": true
      },
      "execution_count": 5,
      "outputs": [
        {
          "name": "stdout",
          "text": "11\n30\n",
          "output_type": "stream"
        }
      ]
    },
    {
      "cell_type": "code",
      "source": "## Now i will convert minutes to hours ##\n\n\nb = a * 60\nprint('the arithmetic expression b = a * 60 convert minutes to hours')\n\n\n",
      "metadata": {
        "trusted": true
      },
      "execution_count": 9,
      "outputs": [
        {
          "name": "stdout",
          "text": "the arithmetic expression b = a * 60 convert minutes to hours\n",
          "output_type": "stream"
        }
      ]
    },
    {
      "cell_type": "markdown",
      "source": "-There are some of my today objectives : \n\n    First : take breakfast\n    Second : learn some things\n    Third : Advance my career by learning some new skills ",
      "metadata": {}
    },
    {
      "cell_type": "markdown",
      "source": "-There are here some of author's names :\n\n    John macCarthy\n    Andrew Ng\n    ",
      "metadata": {}
    }
  ]
}